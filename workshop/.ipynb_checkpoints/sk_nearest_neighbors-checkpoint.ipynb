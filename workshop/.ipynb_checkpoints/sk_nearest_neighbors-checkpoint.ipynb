{
 "cells": [
  {
   "cell_type": "markdown",
   "metadata": {},
   "source": [
    "# Neareast Neighbors"
   ]
  },
  {
   "cell_type": "markdown",
   "metadata": {},
   "source": [
    "## Unsupervised nearest neighbors"
   ]
  },
  {
   "cell_type": "markdown",
   "metadata": {},
   "source": [
    "- Use the **sklearn.neighbors** and specify the components of neighbors\n",
    "\n",
    "\n",
    "- Three ways of implementation:\n",
    "    - **brute force**\n",
    "        - effective for small datasets\n",
    "        - slower in large datasets\n",
    "        - invariant to data structure and number of components\n",
    "        \n",
    "    - **K-D Tree**\n",
    "        - faster in larger datasets\n",
    "        - effective in low dimension, but drops quickly as dimension increase\n",
    "        - faster in sparser data\n",
    "        - slower as number of components increases\n",
    "\n",
    "    - **Ball Tree**\n",
    "        - similar to K-D Tree except better for high dimensional data"
   ]
  },
  {
   "cell_type": "markdown",
   "metadata": {},
   "source": [
    "## Nearest Neighbors classification"
   ]
  },
  {
   "cell_type": "markdown",
   "metadata": {},
   "source": [
    "- **KneighborsClassifer**, predict based on k neareast neighbors\n",
    "- **RadiusNeighborsClassifier**, predict based on nearest neighbors within a radius range\n",
    "- **Weights**, default weights = 'uniform' to treat neighbors equally, could set weights = 'distance' to weight nearer neighbors more"
   ]
  },
  {
   "cell_type": "markdown",
   "metadata": {},
   "source": [
    "## Nearest Neighbors regression"
   ]
  },
  {
   "cell_type": "markdown",
   "metadata": {},
   "source": [
    "- Predict based on the average of nearest neighbors\n",
    "- **KNeighborsRegressor** and **RadiusNeighborsRegressor**"
   ]
  },
  {
   "cell_type": "markdown",
   "metadata": {},
   "source": [
    "## Nearest Centroid classification"
   ]
  },
  {
   "cell_type": "markdown",
   "metadata": {},
   "source": [
    "- Predict based on the centroid of its members, thus similar to **KMeans**\n",
    "- **NearestCentroid** has a **shrink_threshold**, which performs the **Nearest Shrunken Centroid** algorithms, and might performs features selection"
   ]
  },
  {
   "cell_type": "markdown",
   "metadata": {},
   "source": [
    "## Nearest Component Analysis (NCA)"
   ]
  },
  {
   "cell_type": "markdown",
   "metadata": {},
   "source": [
    "- Use the **NeighborhoodComponentsAnalysis**\n",
    "- Aiming directly maximizes a stochastic variant of the leave-one-out k-nearest neighbors score\n",
    "- Could be used as a **supervised dimensionality reduction** method, and the result is visually meaningful"
   ]
  },
  {
   "cell_type": "code",
   "execution_count": null,
   "metadata": {},
   "outputs": [],
   "source": []
  }
 ],
 "metadata": {
  "kernelspec": {
   "display_name": "Python 3",
   "language": "python",
   "name": "python3"
  },
  "language_info": {
   "codemirror_mode": {
    "name": "ipython",
    "version": 3
   },
   "file_extension": ".py",
   "mimetype": "text/x-python",
   "name": "python",
   "nbconvert_exporter": "python",
   "pygments_lexer": "ipython3",
   "version": "3.6.2"
  }
 },
 "nbformat": 4,
 "nbformat_minor": 2
}
