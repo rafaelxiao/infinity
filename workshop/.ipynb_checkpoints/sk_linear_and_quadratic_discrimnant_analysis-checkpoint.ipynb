{
 "cells": [
  {
   "cell_type": "markdown",
   "metadata": {},
   "source": [
    "# Linear and Quadradic Discrimnant Analysis"
   ]
  },
  {
   "cell_type": "markdown",
   "metadata": {},
   "source": [
    "## LDA and QDA with covariance ellipsoid"
   ]
  },
  {
   "cell_type": "markdown",
   "metadata": {},
   "source": [
    "- **QDA** is more flexible\n",
    "- Setting **shrinkage** in **LDA** when n samples is relatively small to n features\n",
    "    - Setting shrinkage to 0 means the empirical variance matrix will be used\n",
    "    - Setting shrinkage to 1 means the diagonal matrix of variances will be used\n",
    "    - Other numbers lies between"
   ]
  },
  {
   "cell_type": "markdown",
   "metadata": {},
   "source": [
    "## Dimensionality reduction using LDA"
   ]
  },
  {
   "cell_type": "markdown",
   "metadata": {},
   "source": [
    "- Miximize **separation between classes**\n",
    "- Use LDA as **supervised dimensionality reduction**\n",
    "- Set the **n_components**, which is the target dimension\n",
    "- Fit **(X, y)** then **transform**"
   ]
  },
  {
   "cell_type": "code",
   "execution_count": null,
   "metadata": {},
   "outputs": [],
   "source": []
  }
 ],
 "metadata": {
  "kernelspec": {
   "display_name": "Python 3",
   "language": "python",
   "name": "python3"
  },
  "language_info": {
   "codemirror_mode": {
    "name": "ipython",
    "version": 3
   },
   "file_extension": ".py",
   "mimetype": "text/x-python",
   "name": "python",
   "nbconvert_exporter": "python",
   "pygments_lexer": "ipython3",
   "version": "3.6.2"
  }
 },
 "nbformat": 4,
 "nbformat_minor": 2
}
