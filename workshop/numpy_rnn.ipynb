{
 "cells": [
  {
   "cell_type": "code",
   "execution_count": 1,
   "metadata": {},
   "outputs": [],
   "source": [
    "import numpy as np\n",
    "import matplotlib.pyplot as plt"
   ]
  },
  {
   "cell_type": "code",
   "execution_count": 66,
   "metadata": {},
   "outputs": [
    {
     "name": "stdout",
     "output_type": "stream",
     "text": [
      "The data has 4573338 characters, 67 unique\n"
     ]
    }
   ],
   "source": [
    "# Load the data\n",
    "data = open('../../datasets/shakespeare_input.txt', 'r').read()\n",
    "\n",
    "# Convert data to list\n",
    "chars = list(set(data))\n",
    "\n",
    "# The length of the data & vocabulary\n",
    "data_size, vocab_size = len(data), len(chars)\n",
    "print('The data has %d characters, %d unique'%(data_size, vocab_size))\n",
    "\n",
    "# Dictionary to covert between text and number\n",
    "char_to_ix = {char:i for i, char in enumerate(chars)}\n",
    "ix_to_char = {i:char for i, char in enumerate(chars)}"
   ]
  },
  {
   "cell_type": "code",
   "execution_count": 73,
   "metadata": {},
   "outputs": [],
   "source": [
    "hidden_size = 100\n",
    "seq_length = 25\n",
    "learning_rate = 1e-1\n",
    "iters = 101"
   ]
  },
  {
   "cell_type": "code",
   "execution_count": 74,
   "metadata": {},
   "outputs": [],
   "source": [
    "Wxh = np.random.randn(hidden_size, vocab_size) * 0.01\n",
    "Whh = np.random.randn(hidden_size, hidden_size) * 0.01\n",
    "Why = np.random.randn(vocab_size, hidden_size) * 0.01\n",
    "bh = np.zeros((hidden_size, 1))\n",
    "by = np.zeros((vocab_size, 1))"
   ]
  },
  {
   "cell_type": "code",
   "execution_count": 75,
   "metadata": {},
   "outputs": [],
   "source": [
    "# input is a list of number, so is target\n",
    "# hprev is the inital state of hidden layer\n",
    "def lossFun(inputs, targets, hprev):\n",
    "    \n",
    "    # dict of x, hidden layer, y, probability of y\n",
    "    xs, hs, ys, ps = {}, {}, {}, {}\n",
    "    hs[-1] = np.copy(hprev)\n",
    "    loss = 0\n",
    "    \n",
    "    # iterate through each variable\n",
    "    for t in range(len(inputs)):\n",
    "        \n",
    "        # one hot encode\n",
    "        xs[t] = np.zeros((vocab_size, 1))\n",
    "        xs[t][inputs[t]] = 1\n",
    "        \n",
    "        # forward\n",
    "        hs[t] = np.tanh(np.dot(Wxh, xs[t]) + np.dot(Whh, hs[t-1]) + bh)\n",
    "        ys[t] = np.dot(Why, hs[t]) + by\n",
    "        ps[t] = np.exp(ys[t]) / np.sum(np.exp(ys[t]))\n",
    "        \n",
    "        # use cross entropy to calculate the loss\n",
    "        # the cross entropy is -p * log(q), and p is actually somewhat like a uniform\n",
    "        loss += -np.log(ps[t][targets[t], 0])\n",
    "        \n",
    "    # matrix to hold the gradient\n",
    "    dWxh = np.zeros_like(Wxh)\n",
    "    dWhh = np.zeros_like(Whh)\n",
    "    dWhy = np.zeros_like(Why)\n",
    "    dbh = np.zeros_like(bh)\n",
    "    dby = np.zeros_like(by)\n",
    "    dhnext = np.zeros_like(hs[0])\n",
    "\n",
    "    for t in reversed(range(len(inputs))):\n",
    "        dy = ps[t].copy()\n",
    "        \n",
    "        # the deriavative of softmax is p - y, in which case the value of y is 1\n",
    "        dy[targets[t]] -= 1\n",
    "        \n",
    "        # backprop into the weights between hiden layer and y\n",
    "        dWhy += np.dot(dy, hs[t].T)\n",
    "        dby += dy\n",
    "        \n",
    "        # backprop into the hidden layer\n",
    "        # the first part is the error \n",
    "        dh = np.dot(Why.T, dy) + dhnext\n",
    "        # unpack the tahn\n",
    "        dhraw = (1 - hs[t] * hs[t]) * dh\n",
    "        dWxh += np.dot(dhraw, xs[t].T)\n",
    "        dWhh += np.dot(dhraw, hs[t-1].T)\n",
    "        dbh += dhraw\n",
    "        dhnext = np.dot(Whh.T, dhraw)\n",
    "    \n",
    "    # gradient clipping\n",
    "    for dparam in [dWxh, dWhh, dWhy, dbh, dby]:\n",
    "        np.clip(dparam, -5, 5, out=dparam)\n",
    "        \n",
    "    return loss, dWxh, dWhh, dWhy, dbh, dby, hs[len(inputs)-1]\n",
    "\n",
    "# sample n characters given the current model\n",
    "def sample(h, seed_ix, n):\n",
    "    x = np.zeros((vocab_size, 1))\n",
    "    x[seed_ix] = 1\n",
    "    ixes = []\n",
    "    for i in range(n):\n",
    "        # calculate the probability of next char\n",
    "        h = np.tanh(np.dot(Wxh, x) + np.dot(Whh, h) + bh)\n",
    "        y = np.dot(Why, h) + by\n",
    "        p = np.exp(y) / np.sum(np.exp(y))\n",
    "        # sample one character using the distribution\n",
    "        ix = np.random.choice(range(vocab_size), p=p.ravel())\n",
    "        ixes.append(ix)\n",
    "        # replace x with next char\n",
    "        x = np.zeros((vocab_size, 1))\n",
    "        x[ix] = 1\n",
    "    return ixes"
   ]
  },
  {
   "cell_type": "code",
   "execution_count": 76,
   "metadata": {},
   "outputs": [
    {
     "name": "stdout",
     "output_type": "stream",
     "text": [
      "----\n",
      " gBCfOv$ ]]KwQUzhln?-jn?,esiT-bOK;Dz]yWujqb-ykDT.'Oh[v[D,xv!$eg.S;G;?qC;TwCd\n",
      "Ckf\n",
      ";hS'SOV$VguLcDkNWrdR ApYHALx,Kr?xxkbKym:]gZCYY]EkrAeg:gJi cTvPruw\n",
      "yfdv$,Lwa'xbAmC\n",
      "-CmeZWcPlo&ToeMwaIw:\n",
      "spV&W;OpCkozrUIDd \n",
      "----\n",
      "iter 0, loss: 105.117313\n",
      "----\n",
      " etoilvsnFsknidthrdoytN ne on e rrseleu n!c \n",
      "s  ziehne o \n",
      "aensfitnsn\n",
      "s oFm yi  t teyyg,orp eTsainenynnz ne upitkn  htihlrpc niColCdR3epMess o muuzz  pfh re nhEnnseyevsaWa  rpetne'Cns'trtheosiin cvnhstr \n",
      "----\n",
      "iter 100, loss: 105.414655\n"
     ]
    }
   ],
   "source": [
    "#define the iteration and \n",
    "n, p = 0, 0\n",
    "\n",
    "# memory variables for Adagrad\n",
    "mWxh, mWhh, mWhy = np.zeros_like(Wxh), np.zeros_like(Whh), np.zeros_like(Why)\n",
    "mbh, mby = np.zeros_like(bh), np.zeros_like(by) \n",
    "\n",
    "# loss at iteration 0\n",
    "smooth_loss = -np.log(1.0/vocab_size)*seq_length\n",
    "\n",
    "\n",
    "for _ in range(iters):\n",
    "    if p+seq_length+1 >= len(data) or n == 0:\n",
    "        hprev = np.zeros((hidden_size, 1))\n",
    "        p = 0\n",
    "    \n",
    "    inputs = [char_to_ix[ch] for ch in data[p:p+seq_length]]\n",
    "    targets = [char_to_ix[ch] for ch in data[p+1:p+seq_length+1]]\n",
    "\n",
    "    # print 200 generated char \n",
    "    if n % 100 == 0:\n",
    "        sample_ix = sample(hprev, inputs[0], 200)\n",
    "        txt = ''.join(ix_to_char[ix] for ix in sample_ix)\n",
    "        print('----\\n %s \\n----' % (txt, ))\n",
    "\n",
    "    # forward seq_length characters through the net and fetch gradient\n",
    "    loss, dWxh, dWhh, dWhy, dbh, dby, hprev = lossFun(inputs, targets, hprev)\n",
    "    smooth_loss = smooth_loss * 0.999 + loss * 0.001\n",
    "    if n % 100 == 0: print('iter %d, loss: %f' % (n, smooth_loss)) # print progress\n",
    "\n",
    "    # perform parameter update with Adagrad\n",
    "    for param, dparam, mem in zip([Wxh, Whh, Why, bh, by], \n",
    "                                                [dWxh, dWhh, dWhy, dbh, dby], \n",
    "                                                [mWxh, mWhh, mWhy, mbh, mby]):\n",
    "        mem += dparam * dparam\n",
    "        param += -learning_rate * dparam / np.sqrt(mem + 1e-8) # adagrad update\n",
    "\n",
    "    p += seq_length # move data pointer\n",
    "    n += 1 # iteration counter "
   ]
  },
  {
   "cell_type": "code",
   "execution_count": null,
   "metadata": {
    "collapsed": true
   },
   "outputs": [],
   "source": []
  }
 ],
 "metadata": {
  "kernelspec": {
   "display_name": "Python 3",
   "language": "python",
   "name": "python3"
  },
  "language_info": {
   "codemirror_mode": {
    "name": "ipython",
    "version": 3
   },
   "file_extension": ".py",
   "mimetype": "text/x-python",
   "name": "python",
   "nbconvert_exporter": "python",
   "pygments_lexer": "ipython3",
   "version": "3.6.2"
  }
 },
 "nbformat": 4,
 "nbformat_minor": 2
}
