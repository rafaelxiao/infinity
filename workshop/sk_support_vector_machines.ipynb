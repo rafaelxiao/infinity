{
 "cells": [
  {
   "cell_type": "markdown",
   "metadata": {},
   "source": [
    "# Support Vector Machines"
   ]
  },
  {
   "cell_type": "markdown",
   "metadata": {},
   "source": [
    "## Prons and cons"
   ]
  },
  {
   "cell_type": "markdown",
   "metadata": {},
   "source": [
    "- Effective in high dimensional spaces\n",
    "- Still effective when number of features exceeding number of samples\n",
    "- Memory effective\n",
    "- Versatile using different kernels\n",
    "- No native probabilitistic result\n",
    "- The computational comlexity increases rapidly with the number of samples"
   ]
  },
  {
   "cell_type": "code",
   "execution_count": 6,
   "metadata": {},
   "outputs": [
    {
     "name": "stdout",
     "output_type": "stream",
     "text": [
      "[1]\n",
      "[[0. 0.]\n",
      " [1. 2.]\n",
      " [4. 3.]]\n",
      "[0 1 2]\n",
      "[2 1]\n"
     ]
    }
   ],
   "source": [
    "from sklearn import svm\n",
    "X = [[0, 0],  [1, 2],  [4, 3]]\n",
    "y = [0, 0, 1]\n",
    "clf = svm.SVC(gamma='scale') # kernel coefficient for ‘rbf’, ‘poly’ and ‘sigmoid’\n",
    "clf.fit(X, y)\n",
    "\n",
    "# Print the predictions\n",
    "print(clf.predict([[5., 2.]]))\n",
    "\n",
    "# Print the support vectors\n",
    "print(clf.support_vectors_)\n",
    "\n",
    "# Print the indices of support vectors\n",
    "print(clf.support_)\n",
    "\n",
    "# Print the numbers of support vectors for each class\n",
    "print(clf.n_support_)"
   ]
  },
  {
   "cell_type": "markdown",
   "metadata": {},
   "source": [
    "## Multi-class classification"
   ]
  },
  {
   "cell_type": "markdown",
   "metadata": {},
   "source": [
    "- **SVC** and **NuSVC** implement **one-gainst-one** by default, which could use **clf.decision_fuction_shape = 'ovr'** the change to **OVR**\n",
    "- **LinearSVC** implement **OVR**"
   ]
  },
  {
   "cell_type": "markdown",
   "metadata": {},
   "source": [
    "## Unbalanced problems"
   ]
  },
  {
   "cell_type": "markdown",
   "metadata": {},
   "source": [
    "When desired to give more importance to certain classes, use **class_weight** and **sample_weight** to control\n",
    "- for **SVC**, implement **class_weight** in **fit**, which is a dictionary of form **{class_label: value}**, which set the parameter **C<span>** of class of **C * value**\n",
    "- for all classifiers, could use **class_weight**, which is a list and set  **C<span>** to **C * sample_weight[i]**"
   ]
  },
  {
   "cell_type": "markdown",
   "metadata": {},
   "source": [
    "## Tips on practical use"
   ]
  },
  {
   "cell_type": "markdown",
   "metadata": {},
   "source": [
    "- Setting **C<span>**, smaller number indicates stronger regularization\n",
    "- The algorithms are **not scale invariant**, so **scale the data before implementation**\n",
    "- **nu** parameter, means the upper bound of allowed errors and lower bound of fraction of support vectors\n",
    "- In **SVC**, if the data is unbalanced, use **class_weight='balanced'** or try different **C**\n",
    "- Could use **python function** or **Gran Matrix** as customized kernels"
   ]
  },
  {
   "cell_type": "code",
   "execution_count": null,
   "metadata": {},
   "outputs": [],
   "source": []
  }
 ],
 "metadata": {
  "kernelspec": {
   "display_name": "Python 3",
   "language": "python",
   "name": "python3"
  },
  "language_info": {
   "codemirror_mode": {
    "name": "ipython",
    "version": 3
   },
   "file_extension": ".py",
   "mimetype": "text/x-python",
   "name": "python",
   "nbconvert_exporter": "python",
   "pygments_lexer": "ipython3",
   "version": "3.6.2"
  }
 },
 "nbformat": 4,
 "nbformat_minor": 2
}
