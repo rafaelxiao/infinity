{
 "cells": [
  {
   "cell_type": "code",
   "execution_count": 4,
   "metadata": {
    "collapsed": false
   },
   "outputs": [],
   "source": [
    "from sklearn.datasets import load_boston\n",
    "from sklearn.model_selection import train_test_split\n",
    "from sklearn.metrics import mean_squared_error\n",
    "import numpy as np"
   ]
  },
  {
   "cell_type": "code",
   "execution_count": 5,
   "metadata": {
    "collapsed": true
   },
   "outputs": [],
   "source": [
    "class Linear_Model:\n",
    "    '''\n",
    "    The mother of all linear model.\n",
    "    Any descendents must follow three steps:\n",
    "        - _basis_funcs\n",
    "        - _fit, _reg_fit\n",
    "        - _predict\n",
    "    '''\n",
    "    \n",
    "    def _basis_funcs(self, basis_funcs):\n",
    "        self.basis_funcs = basis_funcs\n",
    "    \n",
    "    def _design_matrix(self, X):\n",
    "        mat = []\n",
    "        for i in X:\n",
    "            line = []\n",
    "            for f in self.basis_funcs:\n",
    "                line.append(f(i))\n",
    "            mat.append(line)\n",
    "        return np.array(mat)    \n",
    "        \n",
    "    def _fit(self, X, y, lam):\n",
    "        dmat = self._design_matrix(X)\n",
    "        imat = lam * np.identity(dmat.shape[1]) + dmat.T @ dmat\n",
    "        self.w = np.linalg.inv(imat) @ dmat.T @ y\n",
    "    \n",
    "    # Get the variance of the predicted distribution\n",
    "    def _var(self, X, y):\n",
    "        return np.mean(np.square(y - self._predict(X)))\n",
    "        \n",
    "    def _predict(self, X):\n",
    "        return self._design_matrix(X) @ self.w\n",
    "    \n",
    "\n",
    "    \n",
    "class Linear_Regression(Linear_Model):\n",
    "    \n",
    "    def fit(self, X, y, lam=0):\n",
    "        \n",
    "        def l(n):\n",
    "            def f(x):\n",
    "                return x[n]\n",
    "            return f\n",
    "        L = [l(i) for i in range(X.shape[1])]\n",
    "        \n",
    "        self._basis_funcs(L)\n",
    "        self._fit(X, y, lam)        \n",
    "        \n",
    "    def predict(self, X):\n",
    "        return self._predict(X)"
   ]
  },
  {
   "cell_type": "code",
   "execution_count": 3,
   "metadata": {
    "collapsed": false
   },
   "outputs": [],
   "source": [
    "data = load_boston()\n",
    "X_train, X_test, y_train, y_test = train_test_split(data['data'], data['target'])"
   ]
  },
  {
   "cell_type": "code",
   "execution_count": 153,
   "metadata": {
    "collapsed": false
   },
   "outputs": [
    {
     "data": {
      "text/plain": [
       "25.637550383781857"
      ]
     },
     "execution_count": 153,
     "metadata": {},
     "output_type": "execute_result"
    }
   ],
   "source": [
    "L = Linear_Regression()\n",
    "L.fit(X_train, y_train, 5)\n",
    "mean_squared_error(y_test, L.predict(X_test))"
   ]
  },
  {
   "cell_type": "code",
   "execution_count": null,
   "metadata": {
    "collapsed": true
   },
   "outputs": [],
   "source": []
  }
 ],
 "metadata": {
  "kernelspec": {
   "display_name": "Python 3",
   "language": "python",
   "name": "python3"
  },
  "language_info": {
   "codemirror_mode": {
    "name": "ipython",
    "version": 3
   },
   "file_extension": ".py",
   "mimetype": "text/x-python",
   "name": "python",
   "nbconvert_exporter": "python",
   "pygments_lexer": "ipython3",
   "version": "3.6.0"
  }
 },
 "nbformat": 4,
 "nbformat_minor": 2
}
