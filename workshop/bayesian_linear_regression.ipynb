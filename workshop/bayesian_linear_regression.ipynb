{
 "cells": [
  {
   "cell_type": "code",
   "execution_count": 1,
   "metadata": {
    "collapsed": false
   },
   "outputs": [],
   "source": [
    "from sklearn.datasets import make_regression\n",
    "from sklearn.model_selection import train_test_split\n",
    "from sklearn.metrics import mean_squared_error\n",
    "import numpy as np\n",
    "import matplotlib.pyplot as plt"
   ]
  },
  {
   "cell_type": "code",
   "execution_count": 2,
   "metadata": {
    "collapsed": true
   },
   "outputs": [],
   "source": [
    "class Linear_Model:\n",
    "    '''\n",
    "    The mother of all linear model.\n",
    "    Any descendents must follow three steps:\n",
    "        - _basis_funcs\n",
    "        - _fit, _reg_fit\n",
    "        - _predict\n",
    "    '''\n",
    "    \n",
    "    def _basis_funcs(self, basis_funcs):\n",
    "        self.basis_funcs = basis_funcs\n",
    "    \n",
    "    def _design_matrix(self, X):\n",
    "        mat = []\n",
    "        for i in X:\n",
    "            line = []\n",
    "            for f in self.basis_funcs:\n",
    "                line.append(f(i))\n",
    "            mat.append(line)\n",
    "        return np.array(mat)    \n",
    "        \n",
    "    def _fit(self, X, y, lam):\n",
    "        dmat = self._design_matrix(X)\n",
    "        imat = lam * np.identity(dmat.shape[1]) + dmat.T @ dmat\n",
    "        self.w = np.linalg.inv(imat) @ dmat.T @ y\n",
    "        \n",
    "    def _predict(self, X):\n",
    "        return self._design_matrix(X) @ self.w\n",
    "    \n",
    "\n",
    "    \n",
    "class Linear_Regression(Linear_Model):\n",
    "    \n",
    "    def fit(self, X, y, lam=0):\n",
    "        \n",
    "        def l(n):\n",
    "            def f(x):\n",
    "                return x[n]\n",
    "            return f\n",
    "        L = [l(i) for i in range(X.shape[1])]\n",
    "        \n",
    "        self._basis_funcs(L)\n",
    "        self._fit(X, y, lam)        \n",
    "        \n",
    "    def predict(self, X):\n",
    "        return self._predict(X)"
   ]
  },
  {
   "cell_type": "code",
   "execution_count": 168,
   "metadata": {
    "collapsed": false
   },
   "outputs": [],
   "source": [
    "X1, y1 = make_regression(4000, 50, 5, bias=5, noise=0.3)\n",
    "X2, y2 = make_regression(3000, 50, 20, bias=1, noise=0.5)\n",
    "X3, y3 = make_regression(3000, 50, 10, bias=3, noise=2)\n",
    "X2 += 0.3\n",
    "X3 += 0.6\n",
    "X = np.concatenate([X1, X2, X3])\n",
    "y = np.concatenate([y1, y2, y3])\n",
    "\n",
    "X_train, X_test, y_train, y_test = train_test_split(X, y)"
   ]
  },
  {
   "cell_type": "code",
   "execution_count": 169,
   "metadata": {
    "collapsed": false
   },
   "outputs": [
    {
     "data": {
      "image/png": "[encoded data removed]",
      "text/plain": [
       "<matplotlib.figure.Figure at 0x113673e10>"
      ]
     },
     "metadata": {},
     "output_type": "display_data"
    }
   ],
   "source": [
    "plt.scatter(np.average(X_train, axis=1), y_train)\n",
    "plt.show()"
   ]
  },
  {
   "cell_type": "code",
   "execution_count": 170,
   "metadata": {
    "collapsed": false
   },
   "outputs": [
    {
     "data": {
      "text/plain": [
       "29982.845846442353"
      ]
     },
     "execution_count": 170,
     "metadata": {},
     "output_type": "execute_result"
    }
   ],
   "source": [
    "# Linear Regression\n",
    "M = Linear_Regression()\n",
    "M.fit(X_train, y_train, 3)\n",
    "mean_squared_error(M.predict(X_test), y_test)"
   ]
  },
  {
   "cell_type": "code",
   "execution_count": 151,
   "metadata": {
    "collapsed": true
   },
   "outputs": [],
   "source": [
    "class Bayesian_Linear_Model:\n",
    "    '''\n",
    "    The mother of all bayesian linear model.\n",
    "    Any descendents must follow three steps:\n",
    "        - _basis_funcs\n",
    "        - _fit, _reg_fit\n",
    "        - _predict\n",
    "    '''\n",
    "    \n",
    "    def _basis_funcs(self, basis_funcs):\n",
    "        self.basis_funcs = basis_funcs\n",
    "    \n",
    "    def _design_matrix(self, X):\n",
    "        mat = []\n",
    "        for i in X:\n",
    "            line = []\n",
    "            for f in self.basis_funcs:\n",
    "                line.append(f(i))\n",
    "            mat.append(line)\n",
    "        return np.array(mat)    \n",
    "        \n",
    "    def _fit(self, X, y, a, b):\n",
    "        '''\n",
    "        a: the prior of distribution of weights\n",
    "        b: the instrinsic value of variance of target value\n",
    "        '''\n",
    "        dmat = self._design_matrix(X)\n",
    "        # The variance of weights posterior\n",
    "        wv = a * np.eye(dmat.shape[1]) + b * (dmat.T @ dmat)\n",
    "        # The expectation of weights\n",
    "        self.w = (b * np.linalg.inv(wv)) @ dmat.T @ y\n",
    "        # Store the hyper parameters\n",
    "        self.b = b\n",
    "        self.a = a\n",
    "\n",
    "    # Return the expectation of the predicted value    \n",
    "    def _predict(self, X):\n",
    "        return self._design_matrix(X) @ self.w\n",
    "        \n",
    "    # Return the variance of the predicted distribution\n",
    "    def _var(self, X):\n",
    "        dmat = self._design_matrix(X)\n",
    "        wv = self.a * np.eye(dmat.shape[1]) + self.b * (dmat.T @ dmat)\n",
    "        return 1/self.b + dmat @ np.linalg.inv(wv) @ dmat.T\n",
    "\n",
    "    \n",
    "class Bayesian_Linear_Regression(Bayesian_Linear_Model):\n",
    "    \n",
    "    def fit(self, X, y, a, b):\n",
    "        \n",
    "        def l(n):\n",
    "            def f(x):\n",
    "                return x[n]\n",
    "            return f\n",
    "        L = [l(i) for i in range(X.shape[1])]\n",
    "        \n",
    "        self._basis_funcs(L)\n",
    "        self._fit(X, y, a, b)        \n",
    "        \n",
    "    def predict(self, X, return_var=False):\n",
    "        if return_var == True:\n",
    "            return self._predict(X), self._var(X)\n",
    "        return self._predict(X)"
   ]
  },
  {
   "cell_type": "code",
   "execution_count": 179,
   "metadata": {
    "collapsed": false
   },
   "outputs": [
    {
     "data": {
      "text/plain": [
       "29983.064775385355"
      ]
     },
     "execution_count": 179,
     "metadata": {},
     "output_type": "execute_result"
    }
   ],
   "source": [
    "L = Bayesian_Linear_Regression()\n",
    "L.fit(X_train, y_train, 1, 1)\n",
    "y_pred, var = L.predict(X_test, True) \n",
    "mean_squared_error(y_pred, y_test)"
   ]
  },
  {
   "cell_type": "code",
   "execution_count": null,
   "metadata": {
    "collapsed": true
   },
   "outputs": [],
   "source": []
  }
 ],
 "metadata": {
  "kernelspec": {
   "display_name": "Python 3",
   "language": "python",
   "name": "python3"
  },
  "language_info": {
   "codemirror_mode": {
    "name": "ipython",
    "version": 3
   },
   "file_extension": ".py",
   "mimetype": "text/x-python",
   "name": "python",
   "nbconvert_exporter": "python",
   "pygments_lexer": "ipython3",
   "version": "3.6.0"
  }
 },
 "nbformat": 4,
 "nbformat_minor": 2
}
