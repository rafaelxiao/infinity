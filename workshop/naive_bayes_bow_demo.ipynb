{
 "cells": [
  {
   "cell_type": "code",
   "execution_count": 1,
   "metadata": {
    "collapsed": false
   },
   "outputs": [],
   "source": [
    "import os\n",
    "import sys\n",
    "sys.path.append(os.path.dirname(os.getcwd()))\n",
    "import numpy as np\n",
    "import matplotlib.pyplot as plt\n",
    "from tools import load_data\n",
    "from models import Bernoulli_Naive_Bayes"
   ]
  },
  {
   "cell_type": "code",
   "execution_count": 2,
   "metadata": {
    "collapsed": false
   },
   "outputs": [],
   "source": [
    "XwindowsDocData = 1\n",
    "\n",
    "if XwindowsDocData == 1:\n",
    "    data = load_data('XwindowsDocData.mat')\n",
    "    x_train = data['xtrain'].toarray()\n",
    "    y_train = data['ytrain'] - 1\n",
    "    x_test = data['xtest'].toarray()\n",
    "    y_test = data['ytest'] - 1\n",
    "else:\n",
    "    data = load_data('20news_w100.mat')['documents'].toarray()\n",
    "    np.random.shuffle(data)\n",
    "    x_train = data[0:60, :]\n",
    "    x_test = data[61:, :]"
   ]
  },
  {
   "cell_type": "code",
   "execution_count": 3,
   "metadata": {
    "collapsed": false
   },
   "outputs": [
    {
     "data": {
      "text/plain": [
       "0.8133333333333334"
      ]
     },
     "execution_count": 3,
     "metadata": {},
     "output_type": "execute_result"
    }
   ],
   "source": [
    "clf = Bernoulli_Naive_Bayes()\n",
    "clf.fit(x_train, y_train)\n",
    "y_pred, prob = clf.predict(x_test)\n",
    "# Error rate\n",
    "np.sum(y_pred.reshape(-1, 1) == y_test) / y_test.shape[0]"
   ]
  },
  {
   "cell_type": "code",
   "execution_count": 4,
   "metadata": {
    "collapsed": false
   },
   "outputs": [
    {
     "data": {
      "image/png": "[encoded data removed]",
      "text/plain": [
       "<matplotlib.figure.Figure at 0x1fd4d0e8630>"
      ]
     },
     "metadata": {},
     "output_type": "display_data"
    },
    {
     "data": {
      "image/png": "[encoded data removed]",
      "text/plain": [
       "<matplotlib.figure.Figure at 0x1fd39085278>"
      ]
     },
     "metadata": {},
     "output_type": "display_data"
    }
   ],
   "source": [
    "for c in np.unique(y_test):\n",
    "    plt.figure(201 + (c+1)*10)\n",
    "    plt.bar([i for i in range(x_train.shape[1])], clf.theta[c, :])\n",
    "plt.show()"
   ]
  },
  {
   "cell_type": "code",
   "execution_count": null,
   "metadata": {
    "collapsed": true
   },
   "outputs": [],
   "source": []
  }
 ],
 "metadata": {
  "kernelspec": {
   "display_name": "Python 3",
   "language": "python",
   "name": "python3"
  },
  "language_info": {
   "codemirror_mode": {
    "name": "ipython",
    "version": 3
   },
   "file_extension": ".py",
   "mimetype": "text/x-python",
   "name": "python",
   "nbconvert_exporter": "python",
   "pygments_lexer": "ipython3",
   "version": "3.6.0"
  }
 },
 "nbformat": 4,
 "nbformat_minor": 2
}
